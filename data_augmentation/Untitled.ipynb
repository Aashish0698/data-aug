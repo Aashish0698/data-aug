{
 "cells": [
  {
   "cell_type": "code",
   "execution_count": 3,
   "metadata": {},
   "outputs": [],
   "source": [
    "import nltk\n",
    "from nltk import word_tokenize\n",
    "from nltk.corpus import stopwords"
   ]
  },
  {
   "cell_type": "code",
   "execution_count": 13,
   "metadata": {},
   "outputs": [
    {
     "name": "stdout",
     "output_type": "stream",
     "text": [
      "['Things I need to do this weekend: Groceries, electricity bill, rent and shoppingIt was conditioned in very thin box which caused scratches on the main screen', 'The involved businesses positively answered their clients who were fully refunded']\n",
      "Things I need to do this weekend: Groceries, electricity bill, rent and shoppingIt was conditioned in very thin box which caused scratches on the main screen\n",
      "Things I need to do this weekend: Groceries, electricity bill, rent and shoppingIt was packaged in very thin table which provoked scratches on the main screen\n",
      "The involved businesses positively answered their clients who were fully refunded\n",
      "The involved businesses favourably answered their clients who were fully reimbursed\n"
     ]
    }
   ],
   "source": [
    "\n",
    "\n",
    "stoplist = stopwords.words('english')\n",
    "\n",
    "\n",
    "def get_synonyms_lexicon(path):\n",
    "    synonyms_lexicon = {}\n",
    "    text_entries = [l.strip() for l in open(path,encoding=\"utf8\").readlines()]\n",
    "    for e in text_entries:\n",
    "        e = e.split(' ')\n",
    "        k = e[0]\n",
    "        v = e[1:len(e)]\n",
    "        synonyms_lexicon[k] = v\n",
    "    return synonyms_lexicon\n",
    "\n",
    "\n",
    "def synonym_replacement(sentence, synonyms_lexicon):\n",
    "    keys = synonyms_lexicon.keys()\n",
    "    words = word_tokenize(sentence)\n",
    "    n_sentence = sentence\n",
    "    for w in words:\n",
    "        if w not in stoplist:\n",
    "            if w in keys:\n",
    "                n_sentence = n_sentence.replace(w, synonyms_lexicon[w][0])  # we replace with the first synonym\n",
    "    return n_sentence\n",
    "\n",
    "\n",
    "if __name__ == '__main__':\n",
    "    text = 'Things I need to do this weekend: Groceries, electricity bill, rent and shopping' \\\n",
    "           'It was conditioned in very thin box which caused scratches on the main screen.' \\\n",
    "           'The involved businesses positively answered their clients who were fully refunded.'\n",
    "    sentences = text.split('.')\n",
    "    sentences.remove('')\n",
    "    print(sentences)\n",
    "    synonyms_lexicon = get_synonyms_lexicon('./ppdb-xl.txt')\n",
    "    for sentence in sentences:\n",
    "        new_sentence = synonym_replacement(sentence, synonyms_lexicon)\n",
    "        print(sentence)\n",
    "        print(new_sentence)\n"
   ]
  },
  {
   "cell_type": "code",
   "execution_count": 12,
   "metadata": {},
   "outputs": [
    {
     "name": "stderr",
     "output_type": "stream",
     "text": [
      "[nltk_data] Downloading package punkt to\n",
      "[nltk_data]     C:\\Users\\aashi\\AppData\\Roaming\\nltk_data...\n",
      "[nltk_data]   Package punkt is already up-to-date!\n"
     ]
    },
    {
     "data": {
      "text/plain": [
       "True"
      ]
     },
     "execution_count": 12,
     "metadata": {},
     "output_type": "execute_result"
    }
   ],
   "source": [
    "nltk.download('punkt')"
   ]
  },
  {
   "cell_type": "code",
   "execution_count": null,
   "metadata": {},
   "outputs": [],
   "source": []
  }
 ],
 "metadata": {
  "kernelspec": {
   "display_name": "Python 3",
   "language": "python",
   "name": "python3"
  },
  "language_info": {
   "codemirror_mode": {
    "name": "ipython",
    "version": 3
   },
   "file_extension": ".py",
   "mimetype": "text/x-python",
   "name": "python",
   "nbconvert_exporter": "python",
   "pygments_lexer": "ipython3",
   "version": "3.7.4"
  }
 },
 "nbformat": 4,
 "nbformat_minor": 2
}
